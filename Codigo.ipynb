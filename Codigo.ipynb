{
  "cells": [
    {
      "cell_type": "code",
      "execution_count": null,
      "metadata": {
        "colab": {
          "base_uri": "https://localhost:8080/"
        },
        "id": "9YzqXwQ8-O-9",
        "outputId": "d471c2cd-883c-4266-ee7e-1303a75fdc12"
      },
      "outputs": [
        {
          "name": "stdout",
          "output_type": "stream",
          "text": [
            "Drive already mounted at /content/drive; to attempt to forcibly remount, call drive.mount(\"/content/drive\", force_remount=True).\n"
          ]
        }
      ],
      "source": [
        "import pandas as pd\n",
        "import json\n",
        "from pandas.core import apply\n",
        "import math\n",
        "import numpy as np\n",
        "import statistics as sta\n",
        "import requests\n",
        "import calendar\n",
        "from google.colab import drive\n",
        "drive.mount('/content/drive')"
      ]
    },
    {
      "cell_type": "markdown",
      "metadata": {
        "id": "8UPBh_YlUcAZ"
      },
      "source": [
        "## Planta"
      ]
    },
    {
      "cell_type": "code",
      "execution_count": null,
      "metadata": {
        "colab": {
          "base_uri": "https://localhost:8080/"
        },
        "id": "NCuY_-Mc-l1f",
        "outputId": "bbc8b6bc-6556-4d72-cc44-5b883103b197"
      },
      "outputs": [
        {
          "name": "stderr",
          "output_type": "stream",
          "text": [
            "/usr/local/lib/python3.7/dist-packages/pandas/util/_decorators.py:311: ParserWarning: Falling back to the 'python' engine because the 'c' engine does not support regex separators (separators > 1 char and different from '\\s+' are interpreted as regex); you can avoid this warning by specifying engine='python'.\n",
            "  return func(*args, **kwargs)\n"
          ]
        }
      ],
      "source": [
        "planta_dp = pd.read_csv('/content/drive/MyDrive/Personal/Prueba Bancolombia - DA3/Planta_ec.csv', sep='\\;', lineterminator='\\r')"
      ]
    },
    {
      "cell_type": "code",
      "execution_count": null,
      "metadata": {
        "id": "LNGw3MJQzihX"
      },
      "outputs": [],
      "source": [
        "planta_dp['Usuario_asesor'] = planta_dp['email'].apply(lambda x: x[0:-19])"
      ]
    },
    {
      "cell_type": "code",
      "execution_count": null,
      "metadata": {
        "colab": {
          "base_uri": "https://localhost:8080/"
        },
        "id": "DVFVE_lHRzsy",
        "outputId": "fa1182c4-2fdb-4184-adde-aa6f048d7a9b"
      },
      "outputs": [
        {
          "data": {
            "text/plain": [
              "periodo            int64\n",
              "num_doc           object\n",
              "nombre            object\n",
              "cod_zona           int64\n",
              "zona              object\n",
              "cod_region         int64\n",
              "region            object\n",
              "email             object\n",
              "Usuario_asesor    object\n",
              "dtype: object"
            ]
          },
          "execution_count": 5,
          "metadata": {},
          "output_type": "execute_result"
        }
      ],
      "source": [
        "planta_dp.dtypes"
      ]
    },
    {
      "cell_type": "markdown",
      "metadata": {
        "id": "lubwh295UXdY"
      },
      "source": [
        "### Estandarización de valores, eliminando caracteres especiales. "
      ]
    },
    {
      "cell_type": "code",
      "execution_count": null,
      "metadata": {
        "id": "oSeubONjUXdY"
      },
      "outputs": [],
      "source": [
        "columnas_planta = ['num_doc', 'nombre', 'Usuario_asesor']"
      ]
    },
    {
      "cell_type": "code",
      "execution_count": null,
      "metadata": {
        "colab": {
          "base_uri": "https://localhost:8080/"
        },
        "id": "aQbPwa1IUXdZ",
        "outputId": "390d8e2e-047b-4c07-bf35-b458075976f1"
      },
      "outputs": [
        {
          "name": "stderr",
          "output_type": "stream",
          "text": [
            "/usr/local/lib/python3.7/dist-packages/ipykernel_launcher.py:2: FutureWarning: The default value of regex will change from True to False in a future version.\n",
            "  \n"
          ]
        }
      ],
      "source": [
        "for i in columnas_planta:\n",
        "  planta_dp[i] = planta_dp[i].str.replace('[¡,!,#,$,%,^,&,*,(,),/,\\,<,>,ñ,Ñ,Á,É,Í,Ó,Ú,á,é,í,ó,ú]','')"
      ]
    },
    {
      "cell_type": "code",
      "execution_count": null,
      "metadata": {
        "id": "lFo9couoXUGl"
      },
      "outputs": [],
      "source": [
        "#planta_dp.to_excel('Planta_dp.xlsx', index=False)"
      ]
    },
    {
      "cell_type": "markdown",
      "metadata": {
        "id": "L7vs43cxUhdY"
      },
      "source": [
        "## Sucursales"
      ]
    },
    {
      "cell_type": "code",
      "execution_count": null,
      "metadata": {
        "id": "YRsn8kquBFFn"
      },
      "outputs": [],
      "source": [
        "sucursales_dp = pd.read_csv('/content/drive/MyDrive/Personal/Prueba Bancolombia - DA3/Sucursales_ec.csv', sep='\\;', lineterminator='\\r')"
      ]
    },
    {
      "cell_type": "code",
      "execution_count": null,
      "metadata": {
        "colab": {
          "base_uri": "https://localhost:8080/"
        },
        "id": "AoKglTBTAVvA",
        "outputId": "c6d06ec9-c30b-454f-8ca0-0db661c3bbe1"
      },
      "outputs": [
        {
          "data": {
            "text/html": [
              "\n",
              "  <div id=\"df-e3b24bb4-8ea5-481f-9e2e-f137838b8993\">\n",
              "    <div class=\"colab-df-container\">\n",
              "      <div>\n",
              "<style scoped>\n",
              "    .dataframe tbody tr th:only-of-type {\n",
              "        vertical-align: middle;\n",
              "    }\n",
              "\n",
              "    .dataframe tbody tr th {\n",
              "        vertical-align: top;\n",
              "    }\n",
              "\n",
              "    .dataframe thead th {\n",
              "        text-align: right;\n",
              "    }\n",
              "</style>\n",
              "<table border=\"1\" class=\"dataframe\">\n",
              "  <thead>\n",
              "    <tr style=\"text-align: right;\">\n",
              "      <th></th>\n",
              "      <th>cod_suc</th>\n",
              "      <th>nombre_suc</th>\n",
              "      <th>cedula_director</th>\n",
              "      <th>director_servicio</th>\n",
              "      <th>cedula_lider</th>\n",
              "      <th>lider_servicio</th>\n",
              "    </tr>\n",
              "  </thead>\n",
              "  <tbody>\n",
              "    <tr>\n",
              "      <th>22</th>\n",
              "      <td>25</td>\n",
              "      <td>COMERCIO INTERNACIONAL MEDELLIN</td>\n",
              "      <td>NaN</td>\n",
              "      <td>NaN</td>\n",
              "      <td>xwk/$xwk/$4rp4ns1/0p4nlt4r80/&amp;4r</td>\n",
              "      <td>Jko45hn Edwj97rd Rlus56al/1z H76trrnj97nd76trz</td>\n",
              "    </tr>\n",
              "    <tr>\n",
              "      <th>46</th>\n",
              "      <td>55</td>\n",
              "      <td>CTR. SERV PNAS Y PYME BTA</td>\n",
              "      <td>NaN</td>\n",
              "      <td>NaN</td>\n",
              "      <td>xwk/$xwk/$4rp4n480/&amp;4lt4r0k/$</td>\n",
              "      <td>N76trlsko45n Enral/1qlus5676tr Est76trpj97 Zj9...</td>\n",
              "    </tr>\n",
              "    <tr>\n",
              "      <th>62</th>\n",
              "      <td>75</td>\n",
              "      <td>CIO. INT. CALI</td>\n",
              "      <td>NaN</td>\n",
              "      <td>NaN</td>\n",
              "      <td>xwk/$04rp4ns1/080/&amp;k/$n!04r</td>\n",
              "      <td>Llus56z Adral/1j97nj97 Cj97rd76trnj97s Lko45zj...</td>\n",
              "    </tr>\n",
              "    <tr>\n",
              "      <th>79</th>\n",
              "      <td>95</td>\n",
              "      <td>CIO INT BQUILLA</td>\n",
              "      <td>NaN</td>\n",
              "      <td>NaN</td>\n",
              "      <td>k/$44rlt4rs1/n!04r</td>\n",
              "      <td>J76trnny Mj97nral/1qlus5676tr Cj97bj97ll76trrko45</td>\n",
              "    </tr>\n",
              "    <tr>\n",
              "      <th>294</th>\n",
              "      <td>410</td>\n",
              "      <td>EL TESORO EXPRESS</td>\n",
              "      <td>NaN</td>\n",
              "      <td>NaN</td>\n",
              "      <td>480/&amp;n!04p4nn!0s1/n!0</td>\n",
              "      <td>Anj97 Mj97ral/1j97 Echj97vj97rral/1j97 Gko45nz...</td>\n",
              "    </tr>\n",
              "    <tr>\n",
              "      <th>439</th>\n",
              "      <td>633</td>\n",
              "      <td>MANAURE</td>\n",
              "      <td>NaN</td>\n",
              "      <td>NaN</td>\n",
              "      <td>s1/p4np4n0k/$k/$lt4rs1/</td>\n",
              "      <td>G76trrmj97n Alcal/1d76trs H76trrnj97nd76trz Va...</td>\n",
              "    </tr>\n",
              "    <tr>\n",
              "      <th>579</th>\n",
              "      <td>830</td>\n",
              "      <td>EDIFICIO 8111 EXPRESS</td>\n",
              "      <td>NaN</td>\n",
              "      <td>NaN</td>\n",
              "      <td>n!00xwk/$n!04xwk/$xwk/$k/$</td>\n",
              "      <td>Cj97mal/1lko45 Andr76trs Mal/1lj97 Jal/1m76trn...</td>\n",
              "    </tr>\n",
              "  </tbody>\n",
              "</table>\n",
              "</div>\n",
              "      <button class=\"colab-df-convert\" onclick=\"convertToInteractive('df-e3b24bb4-8ea5-481f-9e2e-f137838b8993')\"\n",
              "              title=\"Convert this dataframe to an interactive table.\"\n",
              "              style=\"display:none;\">\n",
              "        \n",
              "  <svg xmlns=\"http://www.w3.org/2000/svg\" height=\"24px\"viewBox=\"0 0 24 24\"\n",
              "       width=\"24px\">\n",
              "    <path d=\"M0 0h24v24H0V0z\" fill=\"none\"/>\n",
              "    <path d=\"M18.56 5.44l.94 2.06.94-2.06 2.06-.94-2.06-.94-.94-2.06-.94 2.06-2.06.94zm-11 1L8.5 8.5l.94-2.06 2.06-.94-2.06-.94L8.5 2.5l-.94 2.06-2.06.94zm10 10l.94 2.06.94-2.06 2.06-.94-2.06-.94-.94-2.06-.94 2.06-2.06.94z\"/><path d=\"M17.41 7.96l-1.37-1.37c-.4-.4-.92-.59-1.43-.59-.52 0-1.04.2-1.43.59L10.3 9.45l-7.72 7.72c-.78.78-.78 2.05 0 2.83L4 21.41c.39.39.9.59 1.41.59.51 0 1.02-.2 1.41-.59l7.78-7.78 2.81-2.81c.8-.78.8-2.07 0-2.86zM5.41 20L4 18.59l7.72-7.72 1.47 1.35L5.41 20z\"/>\n",
              "  </svg>\n",
              "      </button>\n",
              "      \n",
              "  <style>\n",
              "    .colab-df-container {\n",
              "      display:flex;\n",
              "      flex-wrap:wrap;\n",
              "      gap: 12px;\n",
              "    }\n",
              "\n",
              "    .colab-df-convert {\n",
              "      background-color: #E8F0FE;\n",
              "      border: none;\n",
              "      border-radius: 50%;\n",
              "      cursor: pointer;\n",
              "      display: none;\n",
              "      fill: #1967D2;\n",
              "      height: 32px;\n",
              "      padding: 0 0 0 0;\n",
              "      width: 32px;\n",
              "    }\n",
              "\n",
              "    .colab-df-convert:hover {\n",
              "      background-color: #E2EBFA;\n",
              "      box-shadow: 0px 1px 2px rgba(60, 64, 67, 0.3), 0px 1px 3px 1px rgba(60, 64, 67, 0.15);\n",
              "      fill: #174EA6;\n",
              "    }\n",
              "\n",
              "    [theme=dark] .colab-df-convert {\n",
              "      background-color: #3B4455;\n",
              "      fill: #D2E3FC;\n",
              "    }\n",
              "\n",
              "    [theme=dark] .colab-df-convert:hover {\n",
              "      background-color: #434B5C;\n",
              "      box-shadow: 0px 1px 3px 1px rgba(0, 0, 0, 0.15);\n",
              "      filter: drop-shadow(0px 1px 2px rgba(0, 0, 0, 0.3));\n",
              "      fill: #FFFFFF;\n",
              "    }\n",
              "  </style>\n",
              "\n",
              "      <script>\n",
              "        const buttonEl =\n",
              "          document.querySelector('#df-e3b24bb4-8ea5-481f-9e2e-f137838b8993 button.colab-df-convert');\n",
              "        buttonEl.style.display =\n",
              "          google.colab.kernel.accessAllowed ? 'block' : 'none';\n",
              "\n",
              "        async function convertToInteractive(key) {\n",
              "          const element = document.querySelector('#df-e3b24bb4-8ea5-481f-9e2e-f137838b8993');\n",
              "          const dataTable =\n",
              "            await google.colab.kernel.invokeFunction('convertToInteractive',\n",
              "                                                     [key], {});\n",
              "          if (!dataTable) return;\n",
              "\n",
              "          const docLinkHtml = 'Like what you see? Visit the ' +\n",
              "            '<a target=\"_blank\" href=https://colab.research.google.com/notebooks/data_table.ipynb>data table notebook</a>'\n",
              "            + ' to learn more about interactive tables.';\n",
              "          element.innerHTML = '';\n",
              "          dataTable['output_type'] = 'display_data';\n",
              "          await google.colab.output.renderOutput(dataTable, element);\n",
              "          const docLink = document.createElement('div');\n",
              "          docLink.innerHTML = docLinkHtml;\n",
              "          element.appendChild(docLink);\n",
              "        }\n",
              "      </script>\n",
              "    </div>\n",
              "  </div>\n",
              "  "
            ],
            "text/plain": [
              "     cod_suc                       nombre_suc cedula_director  \\\n",
              "22        25  COMERCIO INTERNACIONAL MEDELLIN             NaN   \n",
              "46        55        CTR. SERV PNAS Y PYME BTA             NaN   \n",
              "62        75                   CIO. INT. CALI             NaN   \n",
              "79        95                  CIO INT BQUILLA             NaN   \n",
              "294      410                EL TESORO EXPRESS             NaN   \n",
              "439      633                          MANAURE             NaN   \n",
              "579      830            EDIFICIO 8111 EXPRESS             NaN   \n",
              "\n",
              "    director_servicio                      cedula_lider  \\\n",
              "22                NaN  xwk/$xwk/$4rp4ns1/0p4nlt4r80/&4r   \n",
              "46                NaN     xwk/$xwk/$4rp4n480/&4lt4r0k/$   \n",
              "62                NaN       xwk/$04rp4ns1/080/&k/$n!04r   \n",
              "79                NaN                k/$44rlt4rs1/n!04r   \n",
              "294               NaN             480/&n!04p4nn!0s1/n!0   \n",
              "439               NaN           s1/p4np4n0k/$k/$lt4rs1/   \n",
              "579               NaN        n!00xwk/$n!04xwk/$xwk/$k/$   \n",
              "\n",
              "                                        lider_servicio  \n",
              "22      Jko45hn Edwj97rd Rlus56al/1z H76trrnj97nd76trz  \n",
              "46   N76trlsko45n Enral/1qlus5676tr Est76trpj97 Zj9...  \n",
              "62   Llus56z Adral/1j97nj97 Cj97rd76trnj97s Lko45zj...  \n",
              "79   J76trnny Mj97nral/1qlus5676tr Cj97bj97ll76trrko45  \n",
              "294  Anj97 Mj97ral/1j97 Echj97vj97rral/1j97 Gko45nz...  \n",
              "439  G76trrmj97n Alcal/1d76trs H76trrnj97nd76trz Va...  \n",
              "579  Cj97mal/1lko45 Andr76trs Mal/1lj97 Jal/1m76trn...  "
            ]
          },
          "execution_count": 10,
          "metadata": {},
          "output_type": "execute_result"
        }
      ],
      "source": [
        "sucursales_dp[sucursales_dp['director_servicio'].isnull()]"
      ]
    },
    {
      "cell_type": "code",
      "execution_count": null,
      "metadata": {
        "id": "T7MZVz0PSNjt"
      },
      "outputs": [],
      "source": [
        "sucursales_dp['director_servicio'] = np.where(sucursales_dp['director_servicio'].isna(),\n",
        "                           sucursales_dp['lider_servicio'],\n",
        "                           sucursales_dp['director_servicio']) "
      ]
    },
    {
      "cell_type": "code",
      "execution_count": null,
      "metadata": {
        "id": "VhwiwSXQSoXP"
      },
      "outputs": [],
      "source": [
        "sucursales_dp['cedula_director'] = np.where(sucursales_dp['cedula_director'].isna(),\n",
        "                           sucursales_dp['cedula_lider'],\n",
        "                           sucursales_dp['cedula_director'])"
      ]
    },
    {
      "cell_type": "code",
      "execution_count": null,
      "metadata": {
        "colab": {
          "base_uri": "https://localhost:8080/"
        },
        "id": "M-g21h3GTUU1",
        "outputId": "7c07ad1b-fea9-4e96-c2bf-0e7dea122932"
      },
      "outputs": [
        {
          "data": {
            "text/html": [
              "\n",
              "  <div id=\"df-5dde9733-d6e6-409c-8d63-950ebd7a809f\">\n",
              "    <div class=\"colab-df-container\">\n",
              "      <div>\n",
              "<style scoped>\n",
              "    .dataframe tbody tr th:only-of-type {\n",
              "        vertical-align: middle;\n",
              "    }\n",
              "\n",
              "    .dataframe tbody tr th {\n",
              "        vertical-align: top;\n",
              "    }\n",
              "\n",
              "    .dataframe thead th {\n",
              "        text-align: right;\n",
              "    }\n",
              "</style>\n",
              "<table border=\"1\" class=\"dataframe\">\n",
              "  <thead>\n",
              "    <tr style=\"text-align: right;\">\n",
              "      <th></th>\n",
              "      <th>cod_suc</th>\n",
              "      <th>nombre_suc</th>\n",
              "      <th>cedula_director</th>\n",
              "      <th>director_servicio</th>\n",
              "      <th>cedula_lider</th>\n",
              "      <th>lider_servicio</th>\n",
              "    </tr>\n",
              "  </thead>\n",
              "  <tbody>\n",
              "    <tr>\n",
              "      <th>22</th>\n",
              "      <td>25</td>\n",
              "      <td>COMERCIO INTERNACIONAL MEDELLIN</td>\n",
              "      <td>xwk/$xwk/$4rp4ns1/0p4nlt4r80/&amp;4r</td>\n",
              "      <td>Jko45hn Edwj97rd Rlus56al/1z H76trrnj97nd76trz</td>\n",
              "      <td>xwk/$xwk/$4rp4ns1/0p4nlt4r80/&amp;4r</td>\n",
              "      <td>Jko45hn Edwj97rd Rlus56al/1z H76trrnj97nd76trz</td>\n",
              "    </tr>\n",
              "  </tbody>\n",
              "</table>\n",
              "</div>\n",
              "      <button class=\"colab-df-convert\" onclick=\"convertToInteractive('df-5dde9733-d6e6-409c-8d63-950ebd7a809f')\"\n",
              "              title=\"Convert this dataframe to an interactive table.\"\n",
              "              style=\"display:none;\">\n",
              "        \n",
              "  <svg xmlns=\"http://www.w3.org/2000/svg\" height=\"24px\"viewBox=\"0 0 24 24\"\n",
              "       width=\"24px\">\n",
              "    <path d=\"M0 0h24v24H0V0z\" fill=\"none\"/>\n",
              "    <path d=\"M18.56 5.44l.94 2.06.94-2.06 2.06-.94-2.06-.94-.94-2.06-.94 2.06-2.06.94zm-11 1L8.5 8.5l.94-2.06 2.06-.94-2.06-.94L8.5 2.5l-.94 2.06-2.06.94zm10 10l.94 2.06.94-2.06 2.06-.94-2.06-.94-.94-2.06-.94 2.06-2.06.94z\"/><path d=\"M17.41 7.96l-1.37-1.37c-.4-.4-.92-.59-1.43-.59-.52 0-1.04.2-1.43.59L10.3 9.45l-7.72 7.72c-.78.78-.78 2.05 0 2.83L4 21.41c.39.39.9.59 1.41.59.51 0 1.02-.2 1.41-.59l7.78-7.78 2.81-2.81c.8-.78.8-2.07 0-2.86zM5.41 20L4 18.59l7.72-7.72 1.47 1.35L5.41 20z\"/>\n",
              "  </svg>\n",
              "      </button>\n",
              "      \n",
              "  <style>\n",
              "    .colab-df-container {\n",
              "      display:flex;\n",
              "      flex-wrap:wrap;\n",
              "      gap: 12px;\n",
              "    }\n",
              "\n",
              "    .colab-df-convert {\n",
              "      background-color: #E8F0FE;\n",
              "      border: none;\n",
              "      border-radius: 50%;\n",
              "      cursor: pointer;\n",
              "      display: none;\n",
              "      fill: #1967D2;\n",
              "      height: 32px;\n",
              "      padding: 0 0 0 0;\n",
              "      width: 32px;\n",
              "    }\n",
              "\n",
              "    .colab-df-convert:hover {\n",
              "      background-color: #E2EBFA;\n",
              "      box-shadow: 0px 1px 2px rgba(60, 64, 67, 0.3), 0px 1px 3px 1px rgba(60, 64, 67, 0.15);\n",
              "      fill: #174EA6;\n",
              "    }\n",
              "\n",
              "    [theme=dark] .colab-df-convert {\n",
              "      background-color: #3B4455;\n",
              "      fill: #D2E3FC;\n",
              "    }\n",
              "\n",
              "    [theme=dark] .colab-df-convert:hover {\n",
              "      background-color: #434B5C;\n",
              "      box-shadow: 0px 1px 3px 1px rgba(0, 0, 0, 0.15);\n",
              "      filter: drop-shadow(0px 1px 2px rgba(0, 0, 0, 0.3));\n",
              "      fill: #FFFFFF;\n",
              "    }\n",
              "  </style>\n",
              "\n",
              "      <script>\n",
              "        const buttonEl =\n",
              "          document.querySelector('#df-5dde9733-d6e6-409c-8d63-950ebd7a809f button.colab-df-convert');\n",
              "        buttonEl.style.display =\n",
              "          google.colab.kernel.accessAllowed ? 'block' : 'none';\n",
              "\n",
              "        async function convertToInteractive(key) {\n",
              "          const element = document.querySelector('#df-5dde9733-d6e6-409c-8d63-950ebd7a809f');\n",
              "          const dataTable =\n",
              "            await google.colab.kernel.invokeFunction('convertToInteractive',\n",
              "                                                     [key], {});\n",
              "          if (!dataTable) return;\n",
              "\n",
              "          const docLinkHtml = 'Like what you see? Visit the ' +\n",
              "            '<a target=\"_blank\" href=https://colab.research.google.com/notebooks/data_table.ipynb>data table notebook</a>'\n",
              "            + ' to learn more about interactive tables.';\n",
              "          element.innerHTML = '';\n",
              "          dataTable['output_type'] = 'display_data';\n",
              "          await google.colab.output.renderOutput(dataTable, element);\n",
              "          const docLink = document.createElement('div');\n",
              "          docLink.innerHTML = docLinkHtml;\n",
              "          element.appendChild(docLink);\n",
              "        }\n",
              "      </script>\n",
              "    </div>\n",
              "  </div>\n",
              "  "
            ],
            "text/plain": [
              "    cod_suc                       nombre_suc  \\\n",
              "22       25  COMERCIO INTERNACIONAL MEDELLIN   \n",
              "\n",
              "                     cedula_director  \\\n",
              "22  xwk/$xwk/$4rp4ns1/0p4nlt4r80/&4r   \n",
              "\n",
              "                                 director_servicio  \\\n",
              "22  Jko45hn Edwj97rd Rlus56al/1z H76trrnj97nd76trz   \n",
              "\n",
              "                        cedula_lider  \\\n",
              "22  xwk/$xwk/$4rp4ns1/0p4nlt4r80/&4r   \n",
              "\n",
              "                                    lider_servicio  \n",
              "22  Jko45hn Edwj97rd Rlus56al/1z H76trrnj97nd76trz  "
            ]
          },
          "execution_count": 13,
          "metadata": {},
          "output_type": "execute_result"
        }
      ],
      "source": [
        "sucursales_dp[sucursales_dp['cod_suc']==25]"
      ]
    },
    {
      "cell_type": "markdown",
      "metadata": {
        "id": "vTgbMr9_8fH4"
      },
      "source": [
        "### Estandarización de valores, eliminando caracteres especiales. "
      ]
    },
    {
      "cell_type": "code",
      "execution_count": null,
      "metadata": {
        "id": "GM1yQvL27xgQ"
      },
      "outputs": [],
      "source": [
        "columnas_sucursales = ['cedula_director', 'director_servicio', 'cedula_lider', 'lider_servicio']"
      ]
    },
    {
      "cell_type": "code",
      "execution_count": null,
      "metadata": {
        "colab": {
          "base_uri": "https://localhost:8080/"
        },
        "id": "eTa_5XkO7zMI",
        "outputId": "3da94e0f-b409-49ee-90b9-7aa673ae09bf"
      },
      "outputs": [
        {
          "name": "stderr",
          "output_type": "stream",
          "text": [
            "/usr/local/lib/python3.7/dist-packages/ipykernel_launcher.py:2: FutureWarning: The default value of regex will change from True to False in a future version.\n",
            "  \n"
          ]
        }
      ],
      "source": [
        "for i in columnas_sucursales:\n",
        "  sucursales_dp[i] = sucursales_dp[i].str.replace('[¡,!,#,$,%,^,&,*,(,),/,\\,<,>,ñ,Ñ,Á,É,Í,Ó,Ú,á,é,í,ó,ú]','')"
      ]
    },
    {
      "cell_type": "code",
      "execution_count": null,
      "metadata": {
        "id": "vHxxxAbNX4IV"
      },
      "outputs": [],
      "source": [
        "#sucursales_dp.to_excel('Sucursales_dp.xlsx', index=False)"
      ]
    },
    {
      "cell_type": "markdown",
      "metadata": {
        "id": "mPcs7zahUpaS"
      },
      "source": [
        "## Vinculación"
      ]
    },
    {
      "cell_type": "code",
      "execution_count": null,
      "metadata": {
        "colab": {
          "base_uri": "https://localhost:8080/"
        },
        "id": "e-7LMo4-UuhH",
        "outputId": "f1d0f69e-cdd0-47d8-9b49-4f4753a2549a"
      },
      "outputs": [
        {
          "name": "stderr",
          "output_type": "stream",
          "text": [
            "/usr/local/lib/python3.7/dist-packages/pandas/util/_decorators.py:311: ParserWarning: Falling back to the 'python' engine because the 'c' engine does not support regex separators (separators > 1 char and different from '\\s+' are interpreted as regex); you can avoid this warning by specifying engine='python'.\n",
            "  return func(*args, **kwargs)\n"
          ]
        }
      ],
      "source": [
        "vinculacion_dp = pd.read_csv('/content/drive/MyDrive/Personal/Prueba Bancolombia - DA3/Vinculación_ec.csv', sep='\\;', lineterminator='\\r')"
      ]
    },
    {
      "cell_type": "code",
      "execution_count": null,
      "metadata": {
        "id": "m2YTEbWnWlej"
      },
      "outputs": [],
      "source": [
        "vinculacion_dp['FECHA'] = pd.to_datetime(vinculacion_dp['FECHA'], errors='ignore', dayfirst=True, format='%Y-%m-%d')"
      ]
    },
    {
      "cell_type": "code",
      "execution_count": null,
      "metadata": {
        "colab": {
          "base_uri": "https://localhost:8080/"
        },
        "id": "Xo8M5jbLPAID",
        "outputId": "285165fb-f91b-4c3c-b511-af15cebf5569"
      },
      "outputs": [
        {
          "data": {
            "text/plain": [
              "PROCESO                    object\n",
              "NUMERO_CUENTA              object\n",
              "CODIGO_SUCURSAL             int64\n",
              "NOMBRE_PLAN                object\n",
              "FECHA              datetime64[ns]\n",
              "NOMBRE_USUARIO             object\n",
              "DOCUMENTO                  object\n",
              "USUARIO_ASESOR             object\n",
              "dtype: object"
            ]
          },
          "execution_count": 19,
          "metadata": {},
          "output_type": "execute_result"
        }
      ],
      "source": [
        "vinculacion_dp.dtypes"
      ]
    },
    {
      "cell_type": "code",
      "execution_count": null,
      "metadata": {
        "id": "BBt3GKJhc2lr"
      },
      "outputs": [],
      "source": [
        "vinculacion_dp['FECHA_MES'] = vinculacion_dp['FECHA'].dt.month"
      ]
    },
    {
      "cell_type": "code",
      "execution_count": null,
      "metadata": {
        "id": "uuf-i7pmk6Mj"
      },
      "outputs": [],
      "source": [
        "vinculacion_dp['FECHA_MES'].replace(7,'Julio', inplace = True)\n",
        "vinculacion_dp['FECHA_MES'].replace(8,'Agosto', inplace = True)\n",
        "vinculacion_dp['FECHA_MES'].replace(9,'Septiembre', inplace = True)"
      ]
    },
    {
      "cell_type": "code",
      "execution_count": null,
      "metadata": {
        "colab": {
          "base_uri": "https://localhost:8080/"
        },
        "id": "mkBtmIubgfCf",
        "outputId": "2c3d0519-cebe-42d8-9b00-5c6f226bb697"
      },
      "outputs": [
        {
          "data": {
            "application/vnd.google.colaboratory.intrinsic+json": {
              "type": "string"
            },
            "text/plain": [
              "\" Para agregar mes en ingles.\\ndef mes(x):\\n    return calendar.month_name[int(x)] if not np.isnan(x) else np.nan\\n\\nvinculacion_dp['FECHA_MES'] = vinculacion_dp.FECHA_MES.apply(mes)\\n\""
            ]
          },
          "execution_count": 22,
          "metadata": {},
          "output_type": "execute_result"
        }
      ],
      "source": [
        "\"\"\" Para agregar mes en ingles.\n",
        "def mes(x):\n",
        "    return calendar.month_name[int(x)] if not np.isnan(x) else np.nan\n",
        "\n",
        "vinculacion_dp['FECHA_MES'] = vinculacion_dp.FECHA_MES.apply(mes)\n",
        "\"\"\""
      ]
    },
    {
      "cell_type": "code",
      "execution_count": null,
      "metadata": {
        "colab": {
          "base_uri": "https://localhost:8080/"
        },
        "id": "TOZAKLv5l9G6",
        "outputId": "71c442df-1a6b-4a45-8a63-c08b886b54f6"
      },
      "outputs": [
        {
          "data": {
            "text/plain": [
              "206353"
            ]
          },
          "execution_count": 23,
          "metadata": {},
          "output_type": "execute_result"
        }
      ],
      "source": [
        "len(vinculacion_dp.index)\n",
        "# 206353\n",
        "# 205161\n",
        "# Pasamos de 206.353 a 205.161 registros al eliminar los duplicados conservando el registro más antiguo."
      ]
    },
    {
      "cell_type": "code",
      "execution_count": null,
      "metadata": {
        "id": "FStanI2DkpX-"
      },
      "outputs": [],
      "source": [
        "vinculacion_dp['DOCUMENTO'] = vinculacion_dp['DOCUMENTO'].apply(lambda x: x[6:-7])"
      ]
    },
    {
      "cell_type": "code",
      "execution_count": null,
      "metadata": {
        "colab": {
          "base_uri": "https://localhost:8080/"
        },
        "id": "Ebr3z0mRyMXl",
        "outputId": "a4186b7f-b6c8-4d6c-d06f-c06e6863801b"
      },
      "outputs": [
        {
          "data": {
            "text/plain": [
              "array(['Julio', 'Agosto', 'Septiembre'], dtype=object)"
            ]
          },
          "execution_count": 25,
          "metadata": {},
          "output_type": "execute_result"
        }
      ],
      "source": [
        "vinculacion_dp['FECHA_MES'].unique()"
      ]
    },
    {
      "cell_type": "code",
      "execution_count": null,
      "metadata": {
        "colab": {
          "base_uri": "https://localhost:8080/"
        },
        "id": "1U7asdR_GVm1",
        "outputId": "4cac80dd-696b-495a-b88c-2720c05b3128"
      },
      "outputs": [
        {
          "data": {
            "text/plain": [
              "Index(['PROCESO', 'NUMERO_CUENTA', 'CODIGO_SUCURSAL', 'NOMBRE_PLAN', 'FECHA',\n",
              "       'NOMBRE_USUARIO', 'DOCUMENTO', 'USUARIO_ASESOR', 'FECHA_MES'],\n",
              "      dtype='object')"
            ]
          },
          "execution_count": 26,
          "metadata": {},
          "output_type": "execute_result"
        }
      ],
      "source": [
        "vinculacion_dp.columns"
      ]
    },
    {
      "cell_type": "code",
      "execution_count": null,
      "metadata": {
        "colab": {
          "base_uri": "https://localhost:8080/"
        },
        "id": "6e4Skco8HP5J",
        "outputId": "195b2092-d59b-4438-fc6b-62fdb8343341"
      },
      "outputs": [
        {
          "data": {
            "text/plain": [
              "array(['xwk/$80/&s1/0lt4r4480/&', 'xwk/$080/&n!0p4nlt4r80/&80/&k/$4',\n",
              "       'xwk/$0p4n80/&0xwk/$s1/4k/$n!0', ...,\n",
              "       'xwk/$0s1/80/&80/&n!080/&s1/n!0xwk/$',\n",
              "       'xwk/$xwk/$k/$80/&80/&4rlt4rk/$k/$0',\n",
              "       'xwk/$0k/$n!0s1/4r4p4n4rlt4r'], dtype=object)"
            ]
          },
          "execution_count": 27,
          "metadata": {},
          "output_type": "execute_result"
        }
      ],
      "source": [
        "vinculacion_dp['DOCUMENTO'].unique()"
      ]
    },
    {
      "cell_type": "code",
      "execution_count": null,
      "metadata": {
        "colab": {
          "base_uri": "https://localhost:8080/"
        },
        "id": "hO38zc5bGOsg",
        "outputId": "080d0bf6-6e2d-4bec-fb2c-29fdadc37dda"
      },
      "outputs": [
        {
          "data": {
            "text/plain": [
              "DOCUMENTO\n",
              "s1/p4np4ns1/s1/80/&s1/                       11\n",
              "p4n0k/$p4nxwk/$n!080/&0                       6\n",
              "s1/4r0s1/s1/s1/xwk/$k/$                       6\n",
              "k/$4rxwk/$xwk/$s1/xwk/$80/&                   6\n",
              "80/&00xwk/$4r0n!0k/$n!0                       5\n",
              "                                             ..\n",
              "s1/80/&xwk/$80/&s1/xwk/$xwk/$lt4r             1\n",
              "s1/80/&xwk/$80/&xwk/$04rn!0                   1\n",
              "s1/80/&xwk/$80/&xwk/$4xwk/$0                  1\n",
              "s1/80/&xwk/$80/&xwk/$80/&xwk/$0               1\n",
              "xwk/$xwk/$xwk/$xwk/$xwk/$p4np4ns1/k/$lt4r     1\n",
              "Name: NUMERO_CUENTA, Length: 205161, dtype: int64"
            ]
          },
          "execution_count": 28,
          "metadata": {},
          "output_type": "execute_result"
        }
      ],
      "source": [
        "vinculacion_dp.groupby('DOCUMENTO').count()['NUMERO_CUENTA'].sort_values(ascending=False)"
      ]
    },
    {
      "cell_type": "code",
      "execution_count": null,
      "metadata": {
        "id": "CUMP1di7LnkR"
      },
      "outputs": [],
      "source": [
        "vinculacion_dp = vinculacion_dp.sort_values('FECHA', ascending=True).drop_duplicates('DOCUMENTO', keep='first')"
      ]
    },
    {
      "cell_type": "markdown",
      "metadata": {
        "id": "0bh0MuaO842m"
      },
      "source": [
        "### Estandarización de valores, eliminando caracteres especiales. "
      ]
    },
    {
      "cell_type": "code",
      "execution_count": null,
      "metadata": {
        "id": "7EBpt8aV842m"
      },
      "outputs": [],
      "source": [
        "columnas_vinculacion = ['NUMERO_CUENTA', 'NOMBRE_USUARIO', 'DOCUMENTO', 'USUARIO_ASESOR']"
      ]
    },
    {
      "cell_type": "code",
      "execution_count": null,
      "metadata": {
        "colab": {
          "base_uri": "https://localhost:8080/"
        },
        "id": "iZxQgiUn842m",
        "outputId": "30612b5c-05f9-48fc-b3ac-f394d3599c50"
      },
      "outputs": [
        {
          "name": "stderr",
          "output_type": "stream",
          "text": [
            "/usr/local/lib/python3.7/dist-packages/ipykernel_launcher.py:2: FutureWarning: The default value of regex will change from True to False in a future version.\n",
            "  \n"
          ]
        }
      ],
      "source": [
        "for i in columnas_vinculacion:\n",
        "  vinculacion_dp[i] = vinculacion_dp[i].str.replace('[¡,!,#,$,%,^,&,*,(,),/,\\,<,>,ñ,Ñ,Á,É,Í,Ó,Ú,á,é,í,ó,ú]','')"
      ]
    },
    {
      "cell_type": "code",
      "execution_count": null,
      "metadata": {
        "id": "1jN-doVpYIJf"
      },
      "outputs": [],
      "source": [
        "#vinculacion_dp.to_excel('Vinculacion_dp.xlsx', index=False)"
      ]
    },
    {
      "cell_type": "markdown",
      "metadata": {
        "id": "C6GD_tYxntvl"
      },
      "source": [
        "## Sabana final"
      ]
    },
    {
      "cell_type": "markdown",
      "metadata": {
        "id": "fqpUh8IWnbkr"
      },
      "source": [
        "### Depuración tabla Planta"
      ]
    },
    {
      "cell_type": "code",
      "execution_count": null,
      "metadata": {
        "id": "iZ4DBfI0m7yw"
      },
      "outputs": [],
      "source": [
        "planta_dp = planta_dp.astype({'periodo' : 'string'})"
      ]
    },
    {
      "cell_type": "code",
      "execution_count": null,
      "metadata": {
        "id": "g7uo2jRXiWbm"
      },
      "outputs": [],
      "source": [
        "planta_dp['mes_periodo'] = planta_dp['periodo'].apply(lambda x: x[4:])"
      ]
    },
    {
      "cell_type": "code",
      "execution_count": null,
      "metadata": {
        "colab": {
          "base_uri": "https://localhost:8080/"
        },
        "id": "D-5FKXc7of0l",
        "outputId": "91ef31da-af0f-46c7-c47e-a0dae670629d"
      },
      "outputs": [
        {
          "data": {
            "text/plain": [
              "periodo           string\n",
              "num_doc           object\n",
              "nombre            object\n",
              "cod_zona           int64\n",
              "zona              object\n",
              "cod_region         int64\n",
              "region            object\n",
              "email             object\n",
              "Usuario_asesor    object\n",
              "mes_periodo       object\n",
              "dtype: object"
            ]
          },
          "execution_count": 35,
          "metadata": {},
          "output_type": "execute_result"
        }
      ],
      "source": [
        "planta_dp.dtypes"
      ]
    },
    {
      "cell_type": "code",
      "execution_count": null,
      "metadata": {
        "id": "mWJJRwUCnrjr"
      },
      "outputs": [],
      "source": [
        "planta_dp['mes_periodo'].replace('07','Julio', inplace = True)\n",
        "planta_dp['mes_periodo'].replace('08','Agosto', inplace = True)\n",
        "planta_dp['mes_periodo'].replace('09','Septiembre', inplace = True)"
      ]
    },
    {
      "cell_type": "markdown",
      "metadata": {
        "id": "3Wb9XUhkng_S"
      },
      "source": [
        "### Creación de sabana final"
      ]
    },
    {
      "cell_type": "code",
      "execution_count": null,
      "metadata": {
        "id": "j-SopeQW29SO"
      },
      "outputs": [],
      "source": [
        "version1 = pd.merge(vinculacion_dp, sucursales_dp, left_on = 'CODIGO_SUCURSAL', right_on = 'cod_suc', how = 'left', suffixes=('_V', '_S'))"
      ]
    },
    {
      "cell_type": "code",
      "execution_count": null,
      "metadata": {
        "colab": {
          "base_uri": "https://localhost:8080/"
        },
        "id": "7SsPQiJGhfZW",
        "outputId": "b539a181-ce9d-4d4c-a2b8-cf64ee89d86c"
      },
      "outputs": [
        {
          "data": {
            "text/plain": [
              "Index(['PROCESO', 'NUMERO_CUENTA', 'CODIGO_SUCURSAL', 'NOMBRE_PLAN', 'FECHA',\n",
              "       'NOMBRE_USUARIO', 'DOCUMENTO', 'USUARIO_ASESOR', 'FECHA_MES', 'cod_suc',\n",
              "       'nombre_suc', 'cedula_director', 'director_servicio', 'cedula_lider',\n",
              "       'lider_servicio'],\n",
              "      dtype='object')"
            ]
          },
          "execution_count": 38,
          "metadata": {},
          "output_type": "execute_result"
        }
      ],
      "source": [
        "version1.columns"
      ]
    },
    {
      "cell_type": "code",
      "execution_count": null,
      "metadata": {
        "colab": {
          "base_uri": "https://localhost:8080/"
        },
        "id": "D6jsPnxgiLno",
        "outputId": "7a8e0ff0-5616-450a-e4b6-cb3f01160569"
      },
      "outputs": [
        {
          "data": {
            "text/plain": [
              "Index(['periodo', 'num_doc', 'nombre', 'cod_zona', 'zona', 'cod_region',\n",
              "       'region', 'email', 'Usuario_asesor', 'mes_periodo'],\n",
              "      dtype='object')"
            ]
          },
          "execution_count": 39,
          "metadata": {},
          "output_type": "execute_result"
        }
      ],
      "source": [
        "planta_dp.columns"
      ]
    },
    {
      "cell_type": "code",
      "execution_count": null,
      "metadata": {
        "id": "8LURz_gMQkIv"
      },
      "outputs": [],
      "source": [
        "sabana_final = pd.merge(version1, planta_dp, left_on = ['USUARIO_ASESOR', 'FECHA_MES'], right_on = ['Usuario_asesor', 'mes_periodo'], how = 'left', suffixes=('V1', 'Pl'))"
      ]
    },
    {
      "cell_type": "code",
      "execution_count": null,
      "metadata": {
        "colab": {
          "base_uri": "https://localhost:8080/"
        },
        "id": "bYRgK0eJpaLv",
        "outputId": "7b46ebcd-4497-4e5c-9c6c-683055580dcf"
      },
      "outputs": [
        {
          "data": {
            "text/plain": [
              "Index(['PROCESO', 'NUMERO_CUENTA', 'CODIGO_SUCURSAL', 'NOMBRE_PLAN', 'FECHA',\n",
              "       'NOMBRE_USUARIO', 'DOCUMENTO', 'USUARIO_ASESOR', 'FECHA_MES', 'cod_suc',\n",
              "       'nombre_suc', 'cedula_director', 'director_servicio', 'cedula_lider',\n",
              "       'lider_servicio', 'periodo', 'num_doc', 'nombre', 'cod_zona', 'zona',\n",
              "       'cod_region', 'region', 'email', 'Usuario_asesor', 'mes_periodo'],\n",
              "      dtype='object')"
            ]
          },
          "execution_count": 41,
          "metadata": {},
          "output_type": "execute_result"
        }
      ],
      "source": [
        "sabana_final.columns"
      ]
    },
    {
      "cell_type": "code",
      "execution_count": null,
      "metadata": {
        "id": "JR-aQtsPB3Nn"
      },
      "outputs": [],
      "source": [
        "sabana_final_depurada = sabana_final[['PROCESO', 'NUMERO_CUENTA', 'CODIGO_SUCURSAL', 'NOMBRE_PLAN', 'FECHA',\n",
        "       'NOMBRE_USUARIO', 'DOCUMENTO', 'USUARIO_ASESOR', 'FECHA_MES','num_doc', 'nombre', 'nombre_suc', 'cod_zona', 'zona',\n",
        "       'cod_region', 'region', 'cedula_director', 'director_servicio']]"
      ]
    },
    {
      "cell_type": "markdown",
      "metadata": {
        "id": "9UEpwo-Wq-t0"
      },
      "source": [
        "### Georreferenciación / Geopy"
      ]
    },
    {
      "cell_type": "code",
      "execution_count": null,
      "metadata": {
        "id": "3_8LjMSI5xfH"
      },
      "outputs": [],
      "source": [
        "sabana_final_depurada['Localización_completa'] = [0 for i in range(len(sabana_final_depurada['PROCESO']))]\n",
        "sabana_final_depurada['Localización_lat'] = [0 for i in range(len(sabana_final_depurada['PROCESO']))]\n",
        "sabana_final_depurada['Localización_lon'] = [0 for i in range(len(sabana_final_depurada['PROCESO']))]"
      ]
    },
    {
      "cell_type": "code",
      "execution_count": null,
      "metadata": {
        "id": "kzyjZyRmplzb"
      },
      "outputs": [],
      "source": [
        "sabana_final_depurada.shape\n",
        "sabana_final_depurada.dtypes"
      ]
    },
    {
      "cell_type": "code",
      "execution_count": null,
      "metadata": {
        "id": "BnEJohBW7xGN"
      },
      "outputs": [],
      "source": [
        "sabana_final_depurada = sabana_final_depurada.astype({'Localización_completa' : 'str', 'Localización_lat' : 'str', 'Localización_lon' : 'str'})"
      ]
    },
    {
      "cell_type": "code",
      "execution_count": null,
      "metadata": {
        "id": "q7bDPJLViPqw"
      },
      "outputs": [],
      "source": [
        "from geopy.geocoders import Nominatim\n",
        "geolocator = Nominatim(user_agent=\"Obtener Lat-Long\")"
      ]
    },
    {
      "cell_type": "code",
      "execution_count": null,
      "metadata": {
        "colab": {
          "background_save": true
        },
        "id": "B0iIR7Gw9_GF"
      },
      "outputs": [],
      "source": [
        "for i, row in sabana_final_depurada.iterrows():\n",
        "  apiAddress = str(str(sabana_final_depurada.at[i,'nombre_suc'])+','+str(sabana_final_depurada.at[i,'zona'])+','+str(sabana_final_depurada.at[i,'region'])+',Colombia')\n",
        "  sabana_final_depurada.at[i,'Localización_completa'] = apiAddress\n",
        "\n",
        "  #Geopy para obtener Latitud y Longitud de la localización a buscar:\n",
        "  try:    \n",
        "    location = geolocator.geocode(sabana_final_depurada.at[i,'Localización_completa'])\n",
        "    print(\"completado\")\n",
        "    sabana_final_depurada.at[i,'Localización_lat'] = location.latitude\n",
        "    sabana_final_depurada.at[i,'Localización_lon'] = location.longitude\n",
        "  except:\n",
        "    sabana_final_depurada.at[i,'Localización_lat'] = \"n/a\"\n",
        "    sabana_final_depurada.at[i,'Localización_lon'] = \"n/a\""
      ]
    },
    {
      "cell_type": "code",
      "execution_count": null,
      "metadata": {
        "colab": {
          "base_uri": "https://localhost:8080/",
          "height": 165
        },
        "id": "cnD6NiJ-bT9I",
        "outputId": "ca724af5-b76a-436f-f57a-2baea142594f"
      },
      "outputs": [
        {
          "ename": "NameError",
          "evalue": "ignored",
          "output_type": "error",
          "traceback": [
            "\u001b[0;31m---------------------------------------------------------------------------\u001b[0m",
            "\u001b[0;31mNameError\u001b[0m                                 Traceback (most recent call last)",
            "\u001b[0;32m<ipython-input-1-4c57e19905a0>\u001b[0m in \u001b[0;36m<module>\u001b[0;34m\u001b[0m\n\u001b[0;32m----> 1\u001b[0;31m \u001b[0msabana_final_depurada\u001b[0m\u001b[0;34m.\u001b[0m\u001b[0mto_excel\u001b[0m\u001b[0;34m(\u001b[0m\u001b[0;34m'Sabana_final_depurada.xlsx'\u001b[0m\u001b[0;34m,\u001b[0m \u001b[0mindex\u001b[0m\u001b[0;34m=\u001b[0m\u001b[0;32mFalse\u001b[0m\u001b[0;34m)\u001b[0m\u001b[0;34m\u001b[0m\u001b[0;34m\u001b[0m\u001b[0m\n\u001b[0m",
            "\u001b[0;31mNameError\u001b[0m: name 'sabana_final_depurada' is not defined"
          ]
        }
      ],
      "source": [
        "sabana_final_depurada.to_excel('Sabana_final_depurada.xlsx', index=False)"
      ]
    }
  ],
  "metadata": {
    "colab": {
      "collapsed_sections": [
        "8UPBh_YlUcAZ",
        "lubwh295UXdY",
        "L7vs43cxUhdY"
      ],
      "provenance": []
    },
    "kernelspec": {
      "display_name": "Python 3",
      "name": "python3"
    },
    "language_info": {
      "name": "python"
    }
  },
  "nbformat": 4,
  "nbformat_minor": 0
}